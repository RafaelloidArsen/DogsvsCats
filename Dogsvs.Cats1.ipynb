{
 "cells": [
  {
   "cell_type": "markdown",
   "id": "235d63b5",
   "metadata": {},
   "source": [
    "Импорт нужных библиотек"
   ]
  },
  {
   "cell_type": "code",
   "execution_count": 1,
   "id": "83b0da3e",
   "metadata": {},
   "outputs": [],
   "source": [
    "import keras"
   ]
  },
  {
   "cell_type": "code",
   "execution_count": 2,
   "id": "452e3ba8",
   "metadata": {},
   "outputs": [],
   "source": [
    "import os, shutil"
   ]
  },
  {
   "cell_type": "code",
   "execution_count": 3,
   "id": "e28f08d8",
   "metadata": {},
   "outputs": [],
   "source": [
    "import numpy as np \n",
    "import pandas as pd \n",
    "import tensorflow as tf\n",
    "from zipfile import ZipFile \n",
    "import keras.backend as K\n",
    "from sklearn.model_selection import train_test_split\n",
    "import matplotlib.pyplot as plt\n",
    "import zipfile\n",
    "from keras import layers\n",
    "from keras import models\n",
    "from keras import optimizers\n",
    "import matplotlib.pyplot as plt"
   ]
  },
  {
   "cell_type": "markdown",
   "id": "0b80557a",
   "metadata": {},
   "source": [
    "Распаковка архива и извлечение данных:"
   ]
  },
  {
   "cell_type": "code",
   "execution_count": 4,
   "id": "3a29c04c",
   "metadata": {},
   "outputs": [],
   "source": [
    "with zipfile.ZipFile('dogs-vs-cats.zip') as zf: \n",
    "    zf.extractall('all')"
   ]
  },
  {
   "cell_type": "code",
   "execution_count": 5,
   "id": "dfb7306e",
   "metadata": {},
   "outputs": [],
   "source": [
    "with zipfile.ZipFile('all/train.zip') as zf: \n",
    "    zf.extractall()"
   ]
  },
  {
   "cell_type": "markdown",
   "id": "a8458e82",
   "metadata": {},
   "source": [
    "Образование нового, меньшего набора, состоящего из трёх поднаборов: тренировочный, валидационный и тренировочный"
   ]
  },
  {
   "cell_type": "code",
   "execution_count": 6,
   "id": "0a695669",
   "metadata": {},
   "outputs": [],
   "source": [
    "#Путь к папке, в которую был распакован исходный набор данных\n",
    "original_dataset_dir = '/Users/Arsen/Downloads/Deep Learning/_ArsenDL/train'\n",
    "\n",
    "#Путь к папке, в которой мы сделаем набор данных поменьше\n",
    "base_dir = '/Users/Arsen/Downloads/Deep Learning/_ArsenDL/cats_and_dogs_small'\n",
    "os.mkdir(base_dir)\n",
    "\n",
    "#Папки для тренировочной, валидационной и тестовой выборок\n",
    "train_dir = os.path.join(base_dir, 'train')\n",
    "os.mkdir(train_dir)\n",
    "validation_dir = os.path.join(base_dir, 'validation')\n",
    "os.mkdir(validation_dir)\n",
    "test_dir = os.path.join(base_dir, 'test')\n",
    "os.mkdir(test_dir)\n",
    "\n",
    "#Папка с изображениями котов для тренировочной выборки\n",
    "train_cats_dir = os.path.join(train_dir, 'cats')\n",
    "os.mkdir(train_cats_dir)\n",
    "\n",
    "#Папка с изображениями собак для тренировочной выборки\n",
    "train_dogs_dir = os.path.join(train_dir, 'dogs')\n",
    "os.mkdir(train_dogs_dir)\n",
    "\n",
    "#Папка с изображениями котов для валидационной выборки\n",
    "validation_cats_dir = os.path.join(validation_dir, 'cats')\n",
    "os.mkdir(validation_cats_dir)\n",
    "\n",
    "#Папка с изображениями котов для валидационной выборки\n",
    "validation_dogs_dir = os.path.join(validation_dir, 'dogs')\n",
    "os.mkdir(validation_dogs_dir)\n",
    "\n",
    "#Папка с изображениями котов для тестовой выборки\n",
    "test_cats_dir = os.path.join(test_dir, 'cats')\n",
    "os.mkdir(test_cats_dir)\n",
    "\n",
    "#Папка с изображениями котов для тестовой выборки\n",
    "test_dogs_dir = os.path.join(test_dir, 'dogs')\n",
    "os.mkdir(test_dogs_dir)\n",
    "\n",
    "#Копируем первую 1000 изображений с котами в train_cats_dir\n",
    "fnames = ['cat.{}.jpg'.format(i) for i in range(1000)]\n",
    "for fname in fnames:\n",
    "    src = os.path.join(original_dataset_dir, fname)\n",
    "    dst = os.path.join(train_cats_dir, fname)\n",
    "    shutil.copyfile(src, dst)\n",
    "\n",
    "#Копируем следующие 500 изображений с котами в validation_cats_dir\n",
    "fnames = ['cat.{}.jpg'.format(i) for i in range(1000, 1500)]\n",
    "for fname in fnames:\n",
    "    src = os.path.join(original_dataset_dir, fname)\n",
    "    dst = os.path.join(validation_cats_dir, fname)\n",
    "    shutil.copyfile(src, dst)\n",
    "    \n",
    "#И ещё 500 изображений с котами копируем в test_cats_dir\n",
    "fnames = ['cat.{}.jpg'.format(i) for i in range(1500, 2000)]\n",
    "for fname in fnames:\n",
    "    src = os.path.join(original_dataset_dir, fname)\n",
    "    dst = os.path.join(test_cats_dir, fname)\n",
    "    shutil.copyfile(src, dst)\n",
    "    \n",
    "#Копируем первую 1000 изображений с собаками в train_dogs_dir\n",
    "fnames = ['dog.{}.jpg'.format(i) for i in range(1000)]\n",
    "for fname in fnames:\n",
    "    src = os.path.join(original_dataset_dir, fname)\n",
    "    dst = os.path.join(train_dogs_dir, fname)\n",
    "    shutil.copyfile(src, dst)\n",
    "    \n",
    "#Копируем следующие 500 изображений с собаками в validation_dogs_dir\n",
    "fnames = ['dog.{}.jpg'.format(i) for i in range(1000, 1500)]\n",
    "for fname in fnames:\n",
    "    src = os.path.join(original_dataset_dir, fname)\n",
    "    dst = os.path.join(validation_dogs_dir, fname)\n",
    "    shutil.copyfile(src, dst)\n",
    "    \n",
    "#И ещё 500 изображений с собаками копируем в test_dogs_dir\n",
    "fnames = ['dog.{}.jpg'.format(i) for i in range(1500, 2000)]\n",
    "for fname in fnames:\n",
    "    src = os.path.join(original_dataset_dir, fname)\n",
    "    dst = os.path.join(test_dogs_dir, fname)\n",
    "    shutil.copyfile(src, dst)"
   ]
  },
  {
   "cell_type": "markdown",
   "id": "94fecf80",
   "metadata": {},
   "source": [
    "Модель небольшой свёрточной нейронной сети"
   ]
  },
  {
   "cell_type": "code",
   "execution_count": 7,
   "id": "3962505d",
   "metadata": {},
   "outputs": [],
   "source": [
    "model = models.Sequential()\n",
    "model.add(layers.Conv2D(32, (3, 3), activation='relu', input_shape=(150, 150, 3)))\n",
    "model.add(layers.MaxPooling2D((2, 2)))\n",
    "model.add(layers.Conv2D(64, (3, 3), activation='relu'))\n",
    "model.add(layers.MaxPooling2D((2, 2)))\n",
    "model.add(layers.Conv2D(128, (3, 3), activation='relu'))\n",
    "model.add(layers.MaxPooling2D((2, 2)))\n",
    "model.add(layers.Conv2D(128, (3, 3), activation='relu'))\n",
    "model.add(layers.MaxPooling2D((2, 2)))\n",
    "model.add(layers.Flatten())\n",
    "model.add(layers.Dense(512, activation='relu'))\n",
    "model.add(layers.Dense(1, activation='sigmoid'))"
   ]
  },
  {
   "cell_type": "markdown",
   "id": "336e6ffa",
   "metadata": {},
   "source": [
    "Настройка модели для обучения"
   ]
  },
  {
   "cell_type": "code",
   "execution_count": 8,
   "id": "ada554a5",
   "metadata": {},
   "outputs": [],
   "source": [
    "model.compile(loss='binary_crossentropy', optimizer=optimizers.RMSprop(learning_rate=1e-4), metrics=['acc'])"
   ]
  },
  {
   "cell_type": "markdown",
   "id": "a203e762",
   "metadata": {},
   "source": [
    "Преобразование изображений в тензоры с вещественными числами"
   ]
  },
  {
   "cell_type": "code",
   "execution_count": 9,
   "id": "72bc7d4f",
   "metadata": {},
   "outputs": [
    {
     "name": "stdout",
     "output_type": "stream",
     "text": [
      "Found 2000 images belonging to 2 classes.\n",
      "Found 1000 images belonging to 2 classes.\n"
     ]
    }
   ],
   "source": [
    "from keras.preprocessing.image import ImageDataGenerator\n",
    "\n",
    "#Все изображения будут масштабированы с коэффициентом 1/255\n",
    "train_datagen = ImageDataGenerator(rescale=1./255)\n",
    "test_datagen = ImageDataGenerator(rescale=1./255)\n",
    "\n",
    "train_generator = train_datagen.flow_from_directory(\n",
    "        train_dir,\n",
    "        #Все изображения будут приведены к размеру 150х150\n",
    "        target_size=(150, 150),\n",
    "        batch_size=20,\n",
    "        class_mode='binary')\n",
    "\n",
    "validation_generator = test_datagen.flow_from_directory(\n",
    "        validation_dir,\n",
    "        target_size=(150, 150),\n",
    "        batch_size=20,\n",
    "        class_mode='binary')"
   ]
  },
  {
   "cell_type": "markdown",
   "id": "c54fefb7",
   "metadata": {},
   "source": [
    "Обучение модели при помощи генератора пакетов"
   ]
  },
  {
   "cell_type": "code",
   "execution_count": 10,
   "id": "d5d90a9d",
   "metadata": {},
   "outputs": [
    {
     "name": "stderr",
     "output_type": "stream",
     "text": [
      "<ipython-input-10-a7acfc8093a4>:1: UserWarning: `Model.fit_generator` is deprecated and will be removed in a future version. Please use `Model.fit`, which supports generators.\n",
      "  history = model.fit_generator(\n"
     ]
    },
    {
     "name": "stdout",
     "output_type": "stream",
     "text": [
      "Epoch 1/30\n",
      "100/100 [==============================] - 85s 838ms/step - loss: 0.6864 - acc: 0.5530 - val_loss: 0.6740 - val_acc: 0.5740\n",
      "Epoch 2/30\n",
      "100/100 [==============================] - 63s 635ms/step - loss: 0.6565 - acc: 0.6025 - val_loss: 0.6410 - val_acc: 0.6450\n",
      "Epoch 3/30\n",
      "100/100 [==============================] - 64s 636ms/step - loss: 0.6140 - acc: 0.6685 - val_loss: 0.6898 - val_acc: 0.5780\n",
      "Epoch 4/30\n",
      "100/100 [==============================] - 65s 654ms/step - loss: 0.5712 - acc: 0.7010 - val_loss: 0.5970 - val_acc: 0.6810\n",
      "Epoch 5/30\n",
      "100/100 [==============================] - 64s 639ms/step - loss: 0.5316 - acc: 0.7340 - val_loss: 0.6074 - val_acc: 0.6770\n",
      "Epoch 6/30\n",
      "100/100 [==============================] - 68s 677ms/step - loss: 0.5013 - acc: 0.7610 - val_loss: 0.5765 - val_acc: 0.6930\n",
      "Epoch 7/30\n",
      "100/100 [==============================] - 64s 639ms/step - loss: 0.4730 - acc: 0.7695 - val_loss: 0.5609 - val_acc: 0.6960\n",
      "Epoch 8/30\n",
      "100/100 [==============================] - 77s 770ms/step - loss: 0.4415 - acc: 0.7965 - val_loss: 0.6329 - val_acc: 0.6750\n",
      "Epoch 9/30\n",
      "100/100 [==============================] - 77s 776ms/step - loss: 0.4169 - acc: 0.8055 - val_loss: 0.6066 - val_acc: 0.6990\n",
      "Epoch 10/30\n",
      "100/100 [==============================] - 75s 755ms/step - loss: 0.3924 - acc: 0.8255 - val_loss: 0.5880 - val_acc: 0.7170\n",
      "Epoch 11/30\n",
      "100/100 [==============================] - 76s 761ms/step - loss: 0.3693 - acc: 0.8360 - val_loss: 0.5572 - val_acc: 0.7240\n",
      "Epoch 12/30\n",
      "100/100 [==============================] - 75s 755ms/step - loss: 0.3518 - acc: 0.8425 - val_loss: 0.5517 - val_acc: 0.7290\n",
      "Epoch 13/30\n",
      "100/100 [==============================] - 95s 949ms/step - loss: 0.3200 - acc: 0.8660 - val_loss: 0.5575 - val_acc: 0.7290\n",
      "Epoch 14/30\n",
      "100/100 [==============================] - 94s 938ms/step - loss: 0.2965 - acc: 0.8700 - val_loss: 0.5533 - val_acc: 0.7420\n",
      "Epoch 15/30\n",
      "100/100 [==============================] - 80s 800ms/step - loss: 0.2699 - acc: 0.8900 - val_loss: 0.6737 - val_acc: 0.7080\n",
      "Epoch 16/30\n",
      "100/100 [==============================] - 82s 816ms/step - loss: 0.2462 - acc: 0.9045 - val_loss: 0.6556 - val_acc: 0.7260\n",
      "Epoch 17/30\n",
      "100/100 [==============================] - 79s 791ms/step - loss: 0.2257 - acc: 0.9130 - val_loss: 0.7559 - val_acc: 0.6940\n",
      "Epoch 18/30\n",
      "100/100 [==============================] - 71s 710ms/step - loss: 0.2045 - acc: 0.9180 - val_loss: 0.6375 - val_acc: 0.7240\n",
      "Epoch 19/30\n",
      "100/100 [==============================] - 69s 694ms/step - loss: 0.1759 - acc: 0.9355 - val_loss: 0.6809 - val_acc: 0.7360\n",
      "Epoch 20/30\n",
      "100/100 [==============================] - 69s 693ms/step - loss: 0.1631 - acc: 0.9375 - val_loss: 0.7022 - val_acc: 0.7280\n",
      "Epoch 21/30\n",
      "100/100 [==============================] - 69s 692ms/step - loss: 0.1378 - acc: 0.9515 - val_loss: 0.7635 - val_acc: 0.7250\n",
      "Epoch 22/30\n",
      "100/100 [==============================] - 87s 867ms/step - loss: 0.1271 - acc: 0.9560 - val_loss: 0.7701 - val_acc: 0.6990\n",
      "Epoch 23/30\n",
      "100/100 [==============================] - 102s 1s/step - loss: 0.1119 - acc: 0.9610 - val_loss: 0.7590 - val_acc: 0.7320\n",
      "Epoch 24/30\n",
      "100/100 [==============================] - 81s 810ms/step - loss: 0.0874 - acc: 0.9735 - val_loss: 0.8739 - val_acc: 0.7180\n",
      "Epoch 25/30\n",
      "100/100 [==============================] - 93s 932ms/step - loss: 0.0775 - acc: 0.9785 - val_loss: 0.8058 - val_acc: 0.7350\n",
      "Epoch 26/30\n",
      "100/100 [==============================] - 76s 757ms/step - loss: 0.0738 - acc: 0.9760 - val_loss: 0.8607 - val_acc: 0.7250\n",
      "Epoch 27/30\n",
      "100/100 [==============================] - 82s 825ms/step - loss: 0.0530 - acc: 0.9870 - val_loss: 0.9984 - val_acc: 0.7250\n",
      "Epoch 28/30\n",
      "100/100 [==============================] - 79s 792ms/step - loss: 0.0555 - acc: 0.9830 - val_loss: 0.8796 - val_acc: 0.7370\n",
      "Epoch 29/30\n",
      "100/100 [==============================] - 80s 799ms/step - loss: 0.0401 - acc: 0.9910 - val_loss: 0.9674 - val_acc: 0.7350\n",
      "Epoch 30/30\n",
      "100/100 [==============================] - 87s 873ms/step - loss: 0.0367 - acc: 0.9900 - val_loss: 1.0751 - val_acc: 0.7370\n"
     ]
    }
   ],
   "source": [
    "history = model.fit_generator(\n",
    "      train_generator,\n",
    "      steps_per_epoch=100,\n",
    "      epochs=30,\n",
    "      validation_data=validation_generator,\n",
    "      validation_steps=50)"
   ]
  },
  {
   "cell_type": "markdown",
   "id": "1d5291fe",
   "metadata": {},
   "source": [
    "Сохранение модели"
   ]
  },
  {
   "cell_type": "code",
   "execution_count": 11,
   "id": "7548009f",
   "metadata": {},
   "outputs": [],
   "source": [
    "model.save('cats_and_dogs_small_1.h5')"
   ]
  },
  {
   "cell_type": "markdown",
   "id": "e02bd375",
   "metadata": {},
   "source": [
    "Построение графиков изменения потерь и точности во время обучения"
   ]
  },
  {
   "cell_type": "code",
   "execution_count": 12,
   "id": "88789624",
   "metadata": {},
   "outputs": [
    {
     "data": {
      "image/png": "[encoded data removed]",
      "text/plain": [
       "<Figure size 432x288 with 1 Axes>"
      ]
     },
     "metadata": {
      "needs_background": "light"
     },
     "output_type": "display_data"
    },
    {
     "data": {
      "image/png": "[encoded data removed]",
      "text/plain": [
       "<Figure size 432x288 with 1 Axes>"
      ]
     },
     "metadata": {
      "needs_background": "light"
     },
     "output_type": "display_data"
    }
   ],
   "source": [
    "acc = history.history['acc']\n",
    "val_acc = history.history['val_acc']\n",
    "loss = history.history['loss']\n",
    "val_loss = history.history['val_loss']\n",
    "\n",
    "epochs = range(len(acc))\n",
    "\n",
    "plt.plot(epochs, acc, 'bo', label='Точность на тренировочных данных')\n",
    "plt.plot(epochs, val_acc, 'b', label='Точность на валидационных данных')\n",
    "plt.title('Точность на тренировочной и валидационной выборках')\n",
    "plt.legend()\n",
    "\n",
    "plt.figure()\n",
    "\n",
    "plt.plot(epochs, loss, 'bo', label='Потери на тренировочных данных')\n",
    "plt.plot(epochs, val_loss, 'b', label='Потери на валидационных данных')\n",
    "plt.title('Потери на тренировочной и валидационной выборках')\n",
    "plt.legend()\n",
    "\n",
    "plt.show()"
   ]
  },
  {
   "cell_type": "markdown",
   "id": "2d457d2d",
   "metadata": {},
   "source": [
    "Обучение окончательной версии модели"
   ]
  },
  {
   "cell_type": "code",
   "execution_count": 13,
   "id": "fb53e2d8",
   "metadata": {},
   "outputs": [
    {
     "name": "stdout",
     "output_type": "stream",
     "text": [
      "Epoch 1/4\n"
     ]
    },
    {
     "name": "stderr",
     "output_type": "stream",
     "text": [
      "<ipython-input-13-a090d322df4d>:16: UserWarning: `Model.fit_generator` is deprecated and will be removed in a future version. Please use `Model.fit`, which supports generators.\n",
      "  history = model.fit_generator(\n"
     ]
    },
    {
     "name": "stdout",
     "output_type": "stream",
     "text": [
      "100/100 [==============================] - 71s 701ms/step - loss: 0.6883 - acc: 0.5455 - val_loss: 0.6634 - val_acc: 0.6020\n",
      "Epoch 2/4\n",
      "100/100 [==============================] - 85s 851ms/step - loss: 0.6577 - acc: 0.5900 - val_loss: 0.6447 - val_acc: 0.5900\n",
      "Epoch 3/4\n",
      "100/100 [==============================] - 83s 827ms/step - loss: 0.6006 - acc: 0.6680 - val_loss: 0.6169 - val_acc: 0.6340\n",
      "Epoch 4/4\n",
      "100/100 [==============================] - 82s 816ms/step - loss: 0.5690 - acc: 0.7035 - val_loss: 0.5959 - val_acc: 0.6730\n"
     ]
    }
   ],
   "source": [
    "model = models.Sequential()\n",
    "model.add(layers.Conv2D(32, (3, 3), activation='relu', input_shape=(150, 150, 3)))\n",
    "model.add(layers.MaxPooling2D((2, 2)))\n",
    "model.add(layers.Conv2D(64, (3, 3), activation='relu'))\n",
    "model.add(layers.MaxPooling2D((2, 2)))\n",
    "model.add(layers.Conv2D(128, (3, 3), activation='relu'))\n",
    "model.add(layers.MaxPooling2D((2, 2)))\n",
    "model.add(layers.Conv2D(128, (3, 3), activation='relu'))\n",
    "model.add(layers.MaxPooling2D((2, 2)))\n",
    "model.add(layers.Flatten())\n",
    "model.add(layers.Dense(512, activation='relu'))\n",
    "model.add(layers.Dense(1, activation='sigmoid'))\n",
    "\n",
    "model.compile(loss='binary_crossentropy', optimizer=optimizers.RMSprop(learning_rate=1e-4), metrics=['acc'])\n",
    "\n",
    "history = model.fit_generator(\n",
    "      train_generator,\n",
    "      steps_per_epoch=100,\n",
    "      epochs=4,\n",
    "      validation_data=validation_generator,\n",
    "      validation_steps=50)\n",
    "\n",
    "model.save('cats_and_dogs_small_1_1.h5')"
   ]
  },
  {
   "cell_type": "code",
   "execution_count": 14,
   "id": "a1ff6dff",
   "metadata": {},
   "outputs": [
    {
     "name": "stdout",
     "output_type": "stream",
     "text": [
      "Found 1000 images belonging to 2 classes.\n",
      "50/50 [==============================] - 15s 309ms/step - loss: 0.6017 - acc: 0.6860\n",
      "Точность:  0.6859999895095825\n"
     ]
    }
   ],
   "source": [
    "test_generator = test_datagen.flow_from_directory(\n",
    "        test_dir,\n",
    "        target_size=(150, 150),\n",
    "        batch_size=20,\n",
    "        class_mode='binary')\n",
    "\n",
    "test_loss, test_acc = model.evaluate(test_generator, steps=50)\n",
    "print('Точность: ', test_acc)"
   ]
  },
  {
   "cell_type": "code",
   "execution_count": null,
   "id": "cbc9bcef",
   "metadata": {},
   "outputs": [],
   "source": []
  }
 ],
 "metadata": {
  "kernelspec": {
   "display_name": "Python 3",
   "language": "python",
   "name": "python3"
  },
  "language_info": {
   "codemirror_mode": {
    "name": "ipython",
    "version": 3
   },
   "file_extension": ".py",
   "mimetype": "text/x-python",
   "name": "python",
   "nbconvert_exporter": "python",
   "pygments_lexer": "ipython3",
   "version": "3.8.8"
  }
 },
 "nbformat": 4,
 "nbformat_minor": 5
}
