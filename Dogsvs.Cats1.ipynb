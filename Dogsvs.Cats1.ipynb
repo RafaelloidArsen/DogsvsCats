{
 "cells": [
  {
   "cell_type": "markdown",
   "id": "235d63b5",
   "metadata": {},
   "source": [
    "Импорт нужных библиотек"
   ]
  },
  {
   "cell_type": "code",
   "execution_count": 2,
   "id": "83b0da3e",
   "metadata": {},
   "outputs": [],
   "source": [
    "import keras"
   ]
  },
  {
   "cell_type": "code",
   "execution_count": 3,
   "id": "452e3ba8",
   "metadata": {},
   "outputs": [],
   "source": [
    "import os, shutil"
   ]
  },
  {
   "cell_type": "code",
   "execution_count": 25,
   "id": "e28f08d8",
   "metadata": {},
   "outputs": [],
   "source": [
    "import numpy as np \n",
    "import pandas as pd \n",
    "import tensorflow as tf\n",
    "from zipfile import ZipFile \n",
    "import keras.backend as K\n",
    "from sklearn.model_selection import train_test_split\n",
    "import matplotlib.pyplot as plt\n",
    "import zipfile\n",
    "from keras import layers\n",
    "from keras import models\n",
    "from keras import optimizers\n",
    "import matplotlib.pyplot as plt"
   ]
  },
  {
   "cell_type": "markdown",
   "id": "0b80557a",
   "metadata": {},
   "source": [
    "Распаковка архива и извлечение данных:"
   ]
  },
  {
   "cell_type": "code",
   "execution_count": 5,
   "id": "3a29c04c",
   "metadata": {},
   "outputs": [],
   "source": [
    "with zipfile.ZipFile('dogs-vs-cats.zip') as zf: \n",
    "    zf.extractall('all')"
   ]
  },
  {
   "cell_type": "code",
   "execution_count": 9,
   "id": "dfb7306e",
   "metadata": {},
   "outputs": [],
   "source": [
    "with zipfile.ZipFile('all/train.zip') as zf: \n",
    "    zf.extractall()"
   ]
  },
  {
   "cell_type": "markdown",
   "id": "a8458e82",
   "metadata": {},
   "source": [
    "Образование нового, меньшего набора, состоящего из трёх поднаборов: тренировочный, валидационный и тренировочный"
   ]
  },
  {
   "cell_type": "code",
   "execution_count": 11,
   "id": "0a695669",
   "metadata": {},
   "outputs": [],
   "source": [
    "#Путь к папке, в которую был распакован исходный набор данных\n",
    "original_dataset_dir = '/Users/Arsen/Downloads/Deep Learning/_ArsenDL/train'\n",
    "\n",
    "#Путь к папке, в которой мы сделаем набор данных поменьше\n",
    "base_dir = '/Users/Arsen/Downloads/Deep Learning/_ArsenDL/cats_and_dogs_small'\n",
    "os.mkdir(base_dir)\n",
    "\n",
    "#Папки для тренировочной, валидационной и тестовой выборок\n",
    "train_dir = os.path.join(base_dir, 'train')\n",
    "os.mkdir(train_dir)\n",
    "validation_dir = os.path.join(base_dir, 'validation')\n",
    "os.mkdir(validation_dir)\n",
    "test_dir = os.path.join(base_dir, 'test')\n",
    "os.mkdir(test_dir)\n",
    "\n",
    "#Папка с изображениями котов для тренировочной выборки\n",
    "train_cats_dir = os.path.join(train_dir, 'cats')\n",
    "os.mkdir(train_cats_dir)\n",
    "\n",
    "#Папка с изображениями собак для тренировочной выборки\n",
    "train_dogs_dir = os.path.join(train_dir, 'dogs')\n",
    "os.mkdir(train_dogs_dir)\n",
    "\n",
    "#Папка с изображениями котов для валидационной выборки\n",
    "validation_cats_dir = os.path.join(validation_dir, 'cats')\n",
    "os.mkdir(validation_cats_dir)\n",
    "\n",
    "#Папка с изображениями котов для валидационной выборки\n",
    "validation_dogs_dir = os.path.join(validation_dir, 'dogs')\n",
    "os.mkdir(validation_dogs_dir)\n",
    "\n",
    "#Папка с изображениями котов для тестовой выборки\n",
    "test_cats_dir = os.path.join(test_dir, 'cats')\n",
    "os.mkdir(test_cats_dir)\n",
    "\n",
    "#Папка с изображениями котов для тестовой выборки\n",
    "test_dogs_dir = os.path.join(test_dir, 'dogs')\n",
    "os.mkdir(test_dogs_dir)\n",
    "\n",
    "#Копируем первую 1000 изображений с котами в train_cats_dir\n",
    "fnames = ['cat.{}.jpg'.format(i) for i in range(1000)]\n",
    "for fname in fnames:\n",
    "    src = os.path.join(original_dataset_dir, fname)\n",
    "    dst = os.path.join(train_cats_dir, fname)\n",
    "    shutil.copyfile(src, dst)\n",
    "\n",
    "#Копируем следующие 500 изображений с котами в validation_cats_dir\n",
    "fnames = ['cat.{}.jpg'.format(i) for i in range(1000, 1500)]\n",
    "for fname in fnames:\n",
    "    src = os.path.join(original_dataset_dir, fname)\n",
    "    dst = os.path.join(validation_cats_dir, fname)\n",
    "    shutil.copyfile(src, dst)\n",
    "    \n",
    "#И ещё 500 изображений с котами копируем в test_cats_dir\n",
    "fnames = ['cat.{}.jpg'.format(i) for i in range(1500, 2000)]\n",
    "for fname in fnames:\n",
    "    src = os.path.join(original_dataset_dir, fname)\n",
    "    dst = os.path.join(test_cats_dir, fname)\n",
    "    shutil.copyfile(src, dst)\n",
    "    \n",
    "#Копируем первую 1000 изображений с собаками в train_dogs_dir\n",
    "fnames = ['dog.{}.jpg'.format(i) for i in range(1000)]\n",
    "for fname in fnames:\n",
    "    src = os.path.join(original_dataset_dir, fname)\n",
    "    dst = os.path.join(train_dogs_dir, fname)\n",
    "    shutil.copyfile(src, dst)\n",
    "    \n",
    "#Копируем следующие 500 изображений с собаками в validation_dogs_dir\n",
    "fnames = ['dog.{}.jpg'.format(i) for i in range(1000, 1500)]\n",
    "for fname in fnames:\n",
    "    src = os.path.join(original_dataset_dir, fname)\n",
    "    dst = os.path.join(validation_dogs_dir, fname)\n",
    "    shutil.copyfile(src, dst)\n",
    "    \n",
    "#И ещё 500 изображений с собаками копируем в test_dogs_dir\n",
    "fnames = ['dog.{}.jpg'.format(i) for i in range(1500, 2000)]\n",
    "for fname in fnames:\n",
    "    src = os.path.join(original_dataset_dir, fname)\n",
    "    dst = os.path.join(test_dogs_dir, fname)\n",
    "    shutil.copyfile(src, dst)"
   ]
  },
  {
   "cell_type": "markdown",
   "id": "94fecf80",
   "metadata": {},
   "source": [
    "Модель небольшой свёрточной нейронной сети"
   ]
  },
  {
   "cell_type": "code",
   "execution_count": 16,
   "id": "3962505d",
   "metadata": {},
   "outputs": [],
   "source": [
    "model = models.Sequential()\n",
    "model.add(layers.Conv2D(32, (3, 3), activation='relu', input_shape=(150, 150, 3)))\n",
    "model.add(layers.MaxPooling2D((2, 2)))\n",
    "model.add(layers.Conv2D(64, (3, 3), activation='relu'))\n",
    "model.add(layers.MaxPooling2D((2, 2)))\n",
    "model.add(layers.Conv2D(128, (3, 3), activation='relu'))\n",
    "model.add(layers.MaxPooling2D((2, 2)))\n",
    "model.add(layers.Conv2D(128, (3, 3), activation='relu'))\n",
    "model.add(layers.MaxPooling2D((2, 2)))\n",
    "model.add(layers.Flatten())\n",
    "model.add(layers.Dense(512, activation='relu'))\n",
    "model.add(layers.Dense(1, activation='sigmoid'))"
   ]
  },
  {
   "cell_type": "markdown",
   "id": "336e6ffa",
   "metadata": {},
   "source": [
    "Настройка модели для обучения"
   ]
  },
  {
   "cell_type": "code",
   "execution_count": 19,
   "id": "ada554a5",
   "metadata": {},
   "outputs": [],
   "source": [
    "model.compile(loss='binary_crossentropy', optimizer=optimizers.RMSprop(learning_rate=1e-4), metrics=['acc'])"
   ]
  },
  {
   "cell_type": "markdown",
   "id": "a203e762",
   "metadata": {},
   "source": [
    "Преобразование изображений в тензоры с вещественными числами"
   ]
  },
  {
   "cell_type": "code",
   "execution_count": 20,
   "id": "72bc7d4f",
   "metadata": {},
   "outputs": [
    {
     "name": "stdout",
     "output_type": "stream",
     "text": [
      "Found 2000 images belonging to 2 classes.\n",
      "Found 1000 images belonging to 2 classes.\n"
     ]
    }
   ],
   "source": [
    "from keras.preprocessing.image import ImageDataGenerator\n",
    "\n",
    "#Все изображения будут масштабированы с коэффициентом 1/255\n",
    "train_datagen = ImageDataGenerator(rescale=1./255)\n",
    "test_datagen = ImageDataGenerator(rescale=1./255)\n",
    "\n",
    "train_generator = train_datagen.flow_from_directory(\n",
    "        train_dir,\n",
    "        #Все изображения будут приведены к размеру 150х150\n",
    "        target_size=(150, 150),\n",
    "        batch_size=20,\n",
    "        class_mode='binary')\n",
    "\n",
    "validation_generator = test_datagen.flow_from_directory(\n",
    "        validation_dir,\n",
    "        target_size=(150, 150),\n",
    "        batch_size=20,\n",
    "        class_mode='binary')"
   ]
  },
  {
   "cell_type": "markdown",
   "id": "c54fefb7",
   "metadata": {},
   "source": [
    "Обучение модели при помощи генератора пакетов"
   ]
  },
  {
   "cell_type": "code",
   "execution_count": 21,
   "id": "d5d90a9d",
   "metadata": {},
   "outputs": [
    {
     "name": "stderr",
     "output_type": "stream",
     "text": [
      "<ipython-input-21-a7acfc8093a4>:1: UserWarning: `Model.fit_generator` is deprecated and will be removed in a future version. Please use `Model.fit`, which supports generators.\n",
      "  history = model.fit_generator(\n"
     ]
    },
    {
     "name": "stdout",
     "output_type": "stream",
     "text": [
      "Epoch 1/30\n",
      "100/100 [==============================] - 71s 698ms/step - loss: 0.6896 - acc: 0.5310 - val_loss: 0.6743 - val_acc: 0.5440\n",
      "Epoch 2/30\n",
      "100/100 [==============================] - 64s 643ms/step - loss: 0.6591 - acc: 0.6120 - val_loss: 0.6434 - val_acc: 0.6420\n",
      "Epoch 3/30\n",
      "100/100 [==============================] - 64s 636ms/step - loss: 0.6053 - acc: 0.6730 - val_loss: 0.6248 - val_acc: 0.6440\n",
      "Epoch 4/30\n",
      "100/100 [==============================] - 66s 657ms/step - loss: 0.5690 - acc: 0.7140 - val_loss: 0.5939 - val_acc: 0.6740\n",
      "Epoch 5/30\n",
      "100/100 [==============================] - 69s 690ms/step - loss: 0.5295 - acc: 0.7300 - val_loss: 0.5681 - val_acc: 0.7040\n",
      "Epoch 6/30\n",
      "100/100 [==============================] - 64s 640ms/step - loss: 0.5022 - acc: 0.7445 - val_loss: 0.5791 - val_acc: 0.6980\n",
      "Epoch 7/30\n",
      "100/100 [==============================] - 64s 643ms/step - loss: 0.4707 - acc: 0.7795 - val_loss: 0.5670 - val_acc: 0.7010\n",
      "Epoch 8/30\n",
      "100/100 [==============================] - 65s 653ms/step - loss: 0.4387 - acc: 0.7975 - val_loss: 0.5597 - val_acc: 0.7160\n",
      "Epoch 9/30\n",
      "100/100 [==============================] - 64s 644ms/step - loss: 0.4131 - acc: 0.8040 - val_loss: 0.5649 - val_acc: 0.7130\n",
      "Epoch 10/30\n",
      "100/100 [==============================] - 64s 643ms/step - loss: 0.3868 - acc: 0.8270 - val_loss: 0.5423 - val_acc: 0.7330\n",
      "Epoch 11/30\n",
      "100/100 [==============================] - 68s 677ms/step - loss: 0.3586 - acc: 0.8495 - val_loss: 0.5442 - val_acc: 0.7350\n",
      "Epoch 12/30\n",
      "100/100 [==============================] - 66s 664ms/step - loss: 0.3363 - acc: 0.8595 - val_loss: 0.5826 - val_acc: 0.7190\n",
      "Epoch 13/30\n",
      "100/100 [==============================] - 64s 642ms/step - loss: 0.3083 - acc: 0.8705 - val_loss: 0.5676 - val_acc: 0.7350\n",
      "Epoch 14/30\n",
      "100/100 [==============================] - 64s 640ms/step - loss: 0.2849 - acc: 0.8825 - val_loss: 0.6058 - val_acc: 0.7370\n",
      "Epoch 15/30\n",
      "100/100 [==============================] - 64s 642ms/step - loss: 0.2626 - acc: 0.8940 - val_loss: 0.6246 - val_acc: 0.7310\n",
      "Epoch 16/30\n",
      "100/100 [==============================] - 64s 640ms/step - loss: 0.2355 - acc: 0.9100 - val_loss: 0.6233 - val_acc: 0.7240\n",
      "Epoch 17/30\n",
      "100/100 [==============================] - 64s 644ms/step - loss: 0.2141 - acc: 0.9200 - val_loss: 0.7157 - val_acc: 0.7060\n",
      "Epoch 18/30\n",
      "100/100 [==============================] - 64s 641ms/step - loss: 0.1932 - acc: 0.9245 - val_loss: 0.6512 - val_acc: 0.7310\n",
      "Epoch 19/30\n",
      "100/100 [==============================] - 64s 641ms/step - loss: 0.1709 - acc: 0.9385 - val_loss: 0.6497 - val_acc: 0.7280\n",
      "Epoch 20/30\n",
      "100/100 [==============================] - 68s 676ms/step - loss: 0.1548 - acc: 0.9410 - val_loss: 0.7176 - val_acc: 0.7320\n",
      "Epoch 21/30\n",
      "100/100 [==============================] - 66s 659ms/step - loss: 0.1318 - acc: 0.9590 - val_loss: 0.7181 - val_acc: 0.7300\n",
      "Epoch 22/30\n",
      "100/100 [==============================] - 62s 622ms/step - loss: 0.1222 - acc: 0.9590 - val_loss: 0.7621 - val_acc: 0.7330\n",
      "Epoch 23/30\n",
      "100/100 [==============================] - 62s 623ms/step - loss: 0.0972 - acc: 0.9705 - val_loss: 0.7616 - val_acc: 0.7310\n",
      "Epoch 24/30\n",
      "100/100 [==============================] - 62s 625ms/step - loss: 0.0851 - acc: 0.9735 - val_loss: 0.8187 - val_acc: 0.7500\n",
      "Epoch 25/30\n",
      "100/100 [==============================] - 63s 630ms/step - loss: 0.0710 - acc: 0.9795 - val_loss: 0.9343 - val_acc: 0.7210\n",
      "Epoch 26/30\n",
      "100/100 [==============================] - 63s 628ms/step - loss: 0.0581 - acc: 0.9830 - val_loss: 0.8789 - val_acc: 0.7340\n",
      "Epoch 27/30\n",
      "100/100 [==============================] - 63s 625ms/step - loss: 0.0469 - acc: 0.9885 - val_loss: 0.9515 - val_acc: 0.7260\n",
      "Epoch 28/30\n",
      "100/100 [==============================] - 62s 623ms/step - loss: 0.0406 - acc: 0.9905 - val_loss: 1.1946 - val_acc: 0.7110\n",
      "Epoch 29/30\n",
      "100/100 [==============================] - 62s 624ms/step - loss: 0.0409 - acc: 0.9875 - val_loss: 1.0489 - val_acc: 0.7290\n",
      "Epoch 30/30\n",
      "100/100 [==============================] - 63s 626ms/step - loss: 0.0294 - acc: 0.9930 - val_loss: 1.1647 - val_acc: 0.7260\n"
     ]
    }
   ],
   "source": [
    "history = model.fit_generator(\n",
    "      train_generator,\n",
    "      steps_per_epoch=100,\n",
    "      epochs=30,\n",
    "      validation_data=validation_generator,\n",
    "      validation_steps=50)"
   ]
  },
  {
   "cell_type": "markdown",
   "id": "1d5291fe",
   "metadata": {},
   "source": [
    "Сохранение модели"
   ]
  },
  {
   "cell_type": "code",
   "execution_count": 22,
   "id": "7548009f",
   "metadata": {},
   "outputs": [],
   "source": [
    "model.save('cats_and_dogs_small_1.h5')"
   ]
  },
  {
   "cell_type": "markdown",
   "id": "e02bd375",
   "metadata": {},
   "source": [
    "Построение графиков изменения потерь и точности во время обучения"
   ]
  },
  {
   "cell_type": "code",
   "execution_count": 24,
   "id": "88789624",
   "metadata": {},
   "outputs": [
    {
     "data": {
      "image/png": "[encoded data removed]",
      "text/plain": [
       "<Figure size 432x288 with 1 Axes>"
      ]
     },
     "metadata": {
      "needs_background": "light"
     },
     "output_type": "display_data"
    },
    {
     "data": {
      "image/png": "[encoded data removed]",
      "text/plain": [
       "<Figure size 432x288 with 1 Axes>"
      ]
     },
     "metadata": {
      "needs_background": "light"
     },
     "output_type": "display_data"
    }
   ],
   "source": [
    "acc = history.history['acc']\n",
    "val_acc = history.history['val_acc']\n",
    "loss = history.history['loss']\n",
    "val_loss = history.history['val_loss']\n",
    "\n",
    "epochs = range(len(acc))\n",
    "\n",
    "plt.plot(epochs, acc, 'bo', label='Training acc')\n",
    "plt.plot(epochs, val_acc, 'b', label='Validation acc')\n",
    "plt.title('Training and validation accuracy')\n",
    "plt.legend()\n",
    "\n",
    "plt.figure()\n",
    "\n",
    "plt.plot(epochs, loss, 'bo', label='Training loss')\n",
    "plt.plot(epochs, val_loss, 'b', label='Validation loss')\n",
    "plt.title('Training and validation loss')\n",
    "plt.legend()\n",
    "\n",
    "plt.show()"
   ]
  }
 ],
 "metadata": {
  "kernelspec": {
   "display_name": "Python 3",
   "language": "python",
   "name": "python3"
  },
  "language_info": {
   "codemirror_mode": {
    "name": "ipython",
    "version": 3
   },
   "file_extension": ".py",
   "mimetype": "text/x-python",
   "name": "python",
   "nbconvert_exporter": "python",
   "pygments_lexer": "ipython3",
   "version": "3.8.8"
  }
 },
 "nbformat": 4,
 "nbformat_minor": 5
}
